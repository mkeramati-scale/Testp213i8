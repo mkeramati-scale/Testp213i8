{
 "cells": [
  {
   "cell_type": "markdown",
   "metadata": {},
   "source": [
    "Import packages"
   ]
  },
  {
   "cell_type": "code",
   "execution_count": null,
   "metadata": {},
   "outputs": [],
   "source": [
    "import requests\n",
    "import json"
   ]
  },
  {
   "cell_type": "code",
   "execution_count": 3,
   "metadata": {},
   "outputs": [],
   "source": [
    "start = 2000\n",
    "end = 2099\n",
    "url = \"https://feiertage-api.de/api/\"\n",
    "\n",
    "with open(r\"C:\\Users\\mkeramati_scalefree\\Desktop\\data\\holiday_data.ndjson\", 'w', encoding='utf-8') as output_file: # MUST!: encoding='utf-8' -> german ä,ü,ö,ß\n",
    "    for year in range(start, end + 1):\n",
    "        api_url = f\"{url}?jahr={year}\"\n",
    "        response = requests.get(api_url, timeout=10) #access/\"capture\" website content; timeout -> if server doesnt answer in 10 sec then error\n",
    "        response.raise_for_status() # if statuscode 4xx (eg 404) or 5xx -> HTTP error -> script interrupts\n",
    "        data_for_year = response.json() #save http request as json\n",
    "        json_string_row = json.dumps(data_for_year, ensure_ascii=False) #reconvert data_for_year in string #ensure_ascii=False -> for german sonderzeichen\n",
    "        output_file.write(json_string_row + '\\n')"
   ]
  },
  {
   "cell_type": "code",
   "execution_count": null,
   "metadata": {},
   "outputs": [],
   "source": []
  }
 ],
 "metadata": {
  "kernelspec": {
   "display_name": "Python 3",
   "language": "python",
   "name": "python3"
  },
  "language_info": {
   "codemirror_mode": {
    "name": "ipython",
    "version": 3
   },
   "file_extension": ".py",
   "mimetype": "text/x-python",
   "name": "python",
   "nbconvert_exporter": "python",
   "pygments_lexer": "ipython3",
   "version": "3.12.0"
  }
 },
 "nbformat": 4,
 "nbformat_minor": 2
}
